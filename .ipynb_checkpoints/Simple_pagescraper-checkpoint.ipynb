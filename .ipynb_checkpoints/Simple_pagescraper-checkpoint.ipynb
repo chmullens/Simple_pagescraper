{
 "cells": [
  {
   "cell_type": "markdown",
   "id": "8331c97b",
   "metadata": {},
   "source": [
    "Simple page scraper function. Repeatedly collects data from a single target address, and stores the page text. Modular, uses parallel sessions to scale well to more rapid scraping on varying pages. Easily modified.\n",
    "\n",
    "As-is, the code grabs data from an Apex Legends status page to track player selection statistics, which will be an interesting time-series dataset to test how gameplay changes and cosmetic items affect character choice."
   ]
  },
  {
   "cell_type": "code",
   "execution_count": null,
   "id": "5a559230",
   "metadata": {},
   "outputs": [],
   "source": [
    "import datetime as dt\n",
    "import time\n",
    "from requests_futures.sessions import FuturesSession\n",
    "from bs4 import BeautifulSoup\n",
    "from pathlib import Path"
   ]
  },
  {
   "cell_type": "code",
   "execution_count": null,
   "id": "95321592",
   "metadata": {},
   "outputs": [],
   "source": [
    "#SET TARGET PAGE HERE\n",
    "target_address = \"https://apexlegendsstatus.com/gamestats\""
   ]
  },
  {
   "cell_type": "code",
   "execution_count": null,
   "id": "ef9fe78d",
   "metadata": {},
   "outputs": [],
   "source": [
    "#Establish storage directory\n",
    "p = Path('./stored_pages/')\n",
    "p.mkdir(exist_ok=True)"
   ]
  },
  {
   "cell_type": "code",
   "execution_count": null,
   "id": "86e7cbbb",
   "metadata": {},
   "outputs": [],
   "source": [
    "def get_page(address):\n",
    "    \n",
    "    '''Parallel page grabbing. Get the page, return the \n",
    "    base content, along with a savename based on the page\n",
    "    address and the time of the request.''' \n",
    "    \n",
    "    #Assumes \"session\" is a futuressessions instance, and\n",
    "    #requires one to run, i.e. \"session = FuturesSession()\".\n",
    "    #Using above, does up to 8 parallel calls (default). \n",
    "    \n",
    "    resp = session.get(address)\n",
    "    \n",
    "    #Pull out just the content\n",
    "    pagecont = resp.result().content\n",
    "    pagetext = resp.result().text\n",
    "    responsetype = resp.result().status_code\n",
    "    \n",
    "    #Establish time scrape completed\n",
    "    timestr = dt.datetime.strftime(dt.datetime.now(), '%Y%m%d_%H%M')\n",
    "\n",
    "    #Basic name sanitation for save file. Add as needed.\n",
    "    savename = address\n",
    "    savename = savename.replace('http://','')\n",
    "    savename = savename.replace('https://','')\n",
    "    savename = savename.replace('/','_')\n",
    "    savename = savename.replace('.','_')\n",
    "    savename = savename + '_txt_' + timestr\n",
    "    \n",
    "    return pagecont, pagetext, savename, responsetype"
   ]
  },
  {
   "cell_type": "code",
   "execution_count": null,
   "id": "a835e594",
   "metadata": {},
   "outputs": [],
   "source": [
    "def save_page(address):\n",
    "    pagecont, pagetext, savename, responsecode = get_page(address)\n",
    "\n",
    "    soup = BeautifulSoup(pagetext, 'html.parser')\n",
    "    rawtext = soup.get_text()\n",
    "    \n",
    "    #Save it if it loaded properly, otherwise skip save.\n",
    "    if responsecode == 200:\n",
    "        with open('./stored_pages/{}.txt'.format(savename), 'wb') as fname:\n",
    "            fname.write(bytes(rawtext, 'utf-8'))\n",
    "        return 'Saved'\n",
    "    else:\n",
    "        return 'Response code {}'.format(responsecode)"
   ]
  },
  {
   "cell_type": "code",
   "execution_count": null,
   "id": "71fddd24",
   "metadata": {
    "scrolled": true
   },
   "outputs": [],
   "source": [
    "#Repeated call: Super simple. Just call, wait 5 minutes, call, repeat.\n",
    "\n",
    "session = FuturesSession()\n",
    "\n",
    "for n in range(10000):\n",
    "    #Probably not ideal to use try/except here, but I'm fine with some\n",
    "    #data loss, only rarely fails to load. \n",
    "    try:\n",
    "        stat = save_page(target_address)\n",
    "        print(stat)\n",
    "    except:\n",
    "        print('Did not save')\n",
    "    time.sleep(300)\n",
    "    \n",
    "#Works fine running continuously, as long as your computer doesn't sleep."
   ]
  }
 ],
 "metadata": {
  "kernelspec": {
   "display_name": "Python 3",
   "language": "python",
   "name": "python3"
  },
  "language_info": {
   "codemirror_mode": {
    "name": "ipython",
    "version": 3
   },
   "file_extension": ".py",
   "mimetype": "text/x-python",
   "name": "python",
   "nbconvert_exporter": "python",
   "pygments_lexer": "ipython3",
   "version": "3.7.10"
  }
 },
 "nbformat": 4,
 "nbformat_minor": 5
}
